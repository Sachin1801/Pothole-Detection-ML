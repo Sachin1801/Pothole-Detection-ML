{
 "cells": [
  {
   "cell_type": "code",
   "execution_count": 1,
   "metadata": {},
   "outputs": [
    {
     "name": "stderr",
     "output_type": "stream",
     "text": [
      "/opt/anaconda3/envs/pothole_detection/lib/python3.6/site-packages/tensorflow/python/framework/dtypes.py:516: FutureWarning: Passing (type, 1) or '1type' as a synonym of type is deprecated; in a future version of numpy, it will be understood as (type, (1,)) / '(1,)type'.\n",
      "  _np_qint8 = np.dtype([(\"qint8\", np.int8, 1)])\n",
      "/opt/anaconda3/envs/pothole_detection/lib/python3.6/site-packages/tensorflow/python/framework/dtypes.py:517: FutureWarning: Passing (type, 1) or '1type' as a synonym of type is deprecated; in a future version of numpy, it will be understood as (type, (1,)) / '(1,)type'.\n",
      "  _np_quint8 = np.dtype([(\"quint8\", np.uint8, 1)])\n",
      "/opt/anaconda3/envs/pothole_detection/lib/python3.6/site-packages/tensorflow/python/framework/dtypes.py:518: FutureWarning: Passing (type, 1) or '1type' as a synonym of type is deprecated; in a future version of numpy, it will be understood as (type, (1,)) / '(1,)type'.\n",
      "  _np_qint16 = np.dtype([(\"qint16\", np.int16, 1)])\n",
      "/opt/anaconda3/envs/pothole_detection/lib/python3.6/site-packages/tensorflow/python/framework/dtypes.py:519: FutureWarning: Passing (type, 1) or '1type' as a synonym of type is deprecated; in a future version of numpy, it will be understood as (type, (1,)) / '(1,)type'.\n",
      "  _np_quint16 = np.dtype([(\"quint16\", np.uint16, 1)])\n",
      "/opt/anaconda3/envs/pothole_detection/lib/python3.6/site-packages/tensorflow/python/framework/dtypes.py:520: FutureWarning: Passing (type, 1) or '1type' as a synonym of type is deprecated; in a future version of numpy, it will be understood as (type, (1,)) / '(1,)type'.\n",
      "  _np_qint32 = np.dtype([(\"qint32\", np.int32, 1)])\n",
      "/opt/anaconda3/envs/pothole_detection/lib/python3.6/site-packages/tensorflow/python/framework/dtypes.py:525: FutureWarning: Passing (type, 1) or '1type' as a synonym of type is deprecated; in a future version of numpy, it will be understood as (type, (1,)) / '(1,)type'.\n",
      "  np_resource = np.dtype([(\"resource\", np.ubyte, 1)])\n",
      "/opt/anaconda3/envs/pothole_detection/lib/python3.6/site-packages/tensorboard/compat/tensorflow_stub/dtypes.py:541: FutureWarning: Passing (type, 1) or '1type' as a synonym of type is deprecated; in a future version of numpy, it will be understood as (type, (1,)) / '(1,)type'.\n",
      "  _np_qint8 = np.dtype([(\"qint8\", np.int8, 1)])\n",
      "/opt/anaconda3/envs/pothole_detection/lib/python3.6/site-packages/tensorboard/compat/tensorflow_stub/dtypes.py:542: FutureWarning: Passing (type, 1) or '1type' as a synonym of type is deprecated; in a future version of numpy, it will be understood as (type, (1,)) / '(1,)type'.\n",
      "  _np_quint8 = np.dtype([(\"quint8\", np.uint8, 1)])\n",
      "/opt/anaconda3/envs/pothole_detection/lib/python3.6/site-packages/tensorboard/compat/tensorflow_stub/dtypes.py:543: FutureWarning: Passing (type, 1) or '1type' as a synonym of type is deprecated; in a future version of numpy, it will be understood as (type, (1,)) / '(1,)type'.\n",
      "  _np_qint16 = np.dtype([(\"qint16\", np.int16, 1)])\n",
      "/opt/anaconda3/envs/pothole_detection/lib/python3.6/site-packages/tensorboard/compat/tensorflow_stub/dtypes.py:544: FutureWarning: Passing (type, 1) or '1type' as a synonym of type is deprecated; in a future version of numpy, it will be understood as (type, (1,)) / '(1,)type'.\n",
      "  _np_quint16 = np.dtype([(\"quint16\", np.uint16, 1)])\n",
      "/opt/anaconda3/envs/pothole_detection/lib/python3.6/site-packages/tensorboard/compat/tensorflow_stub/dtypes.py:545: FutureWarning: Passing (type, 1) or '1type' as a synonym of type is deprecated; in a future version of numpy, it will be understood as (type, (1,)) / '(1,)type'.\n",
      "  _np_qint32 = np.dtype([(\"qint32\", np.int32, 1)])\n",
      "/opt/anaconda3/envs/pothole_detection/lib/python3.6/site-packages/tensorboard/compat/tensorflow_stub/dtypes.py:550: FutureWarning: Passing (type, 1) or '1type' as a synonym of type is deprecated; in a future version of numpy, it will be understood as (type, (1,)) / '(1,)type'.\n",
      "  np_resource = np.dtype([(\"resource\", np.ubyte, 1)])\n"
     ]
    },
    {
     "name": "stdout",
     "output_type": "stream",
     "text": [
      "WARNING:tensorflow:From /Users/leoadlakha/Desktop/Pothole_Detection/darkflow-master/darkflow/net/build.py:15: The name tf.train.RMSPropOptimizer is deprecated. Please use tf.compat.v1.train.RMSPropOptimizer instead.\n",
      "\n",
      "WARNING:tensorflow:From /Users/leoadlakha/Desktop/Pothole_Detection/darkflow-master/darkflow/net/build.py:16: The name tf.train.AdadeltaOptimizer is deprecated. Please use tf.compat.v1.train.AdadeltaOptimizer instead.\n",
      "\n",
      "WARNING:tensorflow:From /Users/leoadlakha/Desktop/Pothole_Detection/darkflow-master/darkflow/net/build.py:17: The name tf.train.AdagradOptimizer is deprecated. Please use tf.compat.v1.train.AdagradOptimizer instead.\n",
      "\n",
      "WARNING:tensorflow:From /Users/leoadlakha/Desktop/Pothole_Detection/darkflow-master/darkflow/net/build.py:18: The name tf.train.AdagradDAOptimizer is deprecated. Please use tf.compat.v1.train.AdagradDAOptimizer instead.\n",
      "\n",
      "WARNING:tensorflow:From /Users/leoadlakha/Desktop/Pothole_Detection/darkflow-master/darkflow/net/build.py:19: The name tf.train.MomentumOptimizer is deprecated. Please use tf.compat.v1.train.MomentumOptimizer instead.\n",
      "\n"
     ]
    }
   ],
   "source": [
    "import cv2\n",
    "from darkflow.net.build import TFNet\n",
    "import numpy as np\n",
    "import time"
   ]
  },
  {
   "cell_type": "code",
   "execution_count": 1,
   "metadata": {},
   "outputs": [
    {
     "ename": "NameError",
     "evalue": "name 'np' is not defined",
     "output_type": "error",
     "traceback": [
      "\u001b[0;31m---------------------------------------------------------------------------\u001b[0m",
      "\u001b[0;31mNameError\u001b[0m                                 Traceback (most recent call last)",
      "Cell \u001b[0;32mIn[1], line 7\u001b[0m\n\u001b[1;32m      1\u001b[0m options \u001b[39m=\u001b[39m {\n\u001b[1;32m      2\u001b[0m     \u001b[39m'\u001b[39m\u001b[39mmodel\u001b[39m\u001b[39m'\u001b[39m: \u001b[39m\"\u001b[39m\u001b[39mcfg/yolo.cfg\u001b[39m\u001b[39m\"\u001b[39m,\n\u001b[1;32m      3\u001b[0m     \u001b[39m'\u001b[39m\u001b[39mload\u001b[39m\u001b[39m'\u001b[39m: \u001b[39m\"\u001b[39m\u001b[39mbin/yolov2.weights\u001b[39m\u001b[39m\"\u001b[39m,\n\u001b[1;32m      4\u001b[0m     \u001b[39m'\u001b[39m\u001b[39mthreshold\u001b[39m\u001b[39m'\u001b[39m: \u001b[39m0.30\u001b[39m\n\u001b[1;32m      5\u001b[0m }\n\u001b[0;32m----> 7\u001b[0m colors \u001b[39m=\u001b[39m [\u001b[39mtuple\u001b[39;49m(\u001b[39m255\u001b[39;49m \u001b[39m*\u001b[39;49m np\u001b[39m.\u001b[39;49mrandom\u001b[39m.\u001b[39;49mrand(\u001b[39m3\u001b[39;49m)) \u001b[39mfor\u001b[39;49;00m i \u001b[39min\u001b[39;49;00m \u001b[39mrange\u001b[39;49m(\u001b[39m10\u001b[39;49m)]\n\u001b[1;32m      8\u001b[0m tfnet \u001b[39m=\u001b[39m TFNet(options)\n",
      "Cell \u001b[0;32mIn[1], line 7\u001b[0m, in \u001b[0;36m<listcomp>\u001b[0;34m(.0)\u001b[0m\n\u001b[1;32m      1\u001b[0m options \u001b[39m=\u001b[39m {\n\u001b[1;32m      2\u001b[0m     \u001b[39m'\u001b[39m\u001b[39mmodel\u001b[39m\u001b[39m'\u001b[39m: \u001b[39m\"\u001b[39m\u001b[39mcfg/yolo.cfg\u001b[39m\u001b[39m\"\u001b[39m,\n\u001b[1;32m      3\u001b[0m     \u001b[39m'\u001b[39m\u001b[39mload\u001b[39m\u001b[39m'\u001b[39m: \u001b[39m\"\u001b[39m\u001b[39mbin/yolov2.weights\u001b[39m\u001b[39m\"\u001b[39m,\n\u001b[1;32m      4\u001b[0m     \u001b[39m'\u001b[39m\u001b[39mthreshold\u001b[39m\u001b[39m'\u001b[39m: \u001b[39m0.30\u001b[39m\n\u001b[1;32m      5\u001b[0m }\n\u001b[0;32m----> 7\u001b[0m colors \u001b[39m=\u001b[39m [\u001b[39mtuple\u001b[39m(\u001b[39m255\u001b[39m \u001b[39m*\u001b[39m np\u001b[39m.\u001b[39mrandom\u001b[39m.\u001b[39mrand(\u001b[39m3\u001b[39m)) \u001b[39mfor\u001b[39;00m i \u001b[39min\u001b[39;00m \u001b[39mrange\u001b[39m(\u001b[39m10\u001b[39m)]\n\u001b[1;32m      8\u001b[0m tfnet \u001b[39m=\u001b[39m TFNet(options)\n",
      "\u001b[0;31mNameError\u001b[0m: name 'np' is not defined"
     ]
    }
   ],
   "source": [
    "options = {\n",
    "    'model': \"cfg/yolo.cfg\",\n",
    "    'load': \"bin/yolov2.weights\",\n",
    "    'threshold': 0.30\n",
    "}\n",
    "\n",
    "colors = [tuple(255 * np.random.rand(3)) for i in range(10)]\n",
    "tfnet = TFNet(options)"
   ]
  },
  {
   "cell_type": "code",
   "execution_count": 5,
   "metadata": {},
   "outputs": [
    {
     "name": "stdout",
     "output_type": "stream",
     "text": [
      "FPS => 0.2\n",
      "FPS => 0.8\n",
      "FPS => 0.8\n",
      "FPS => 0.8\n",
      "FPS => 0.8\n",
      "FPS => 0.8\n",
      "FPS => 0.8\n",
      "FPS => 0.8\n",
      "FPS => 0.8\n",
      "FPS => 0.8\n",
      "FPS => 0.8\n",
      "FPS => 0.8\n",
      "FPS => 0.8\n",
      "FPS => 0.8\n",
      "FPS => 0.8\n",
      "FPS => 0.8\n",
      "FPS => 0.8\n",
      "FPS => 0.8\n",
      "FPS => 0.8\n",
      "FPS => 0.8\n",
      "FPS => 0.8\n",
      "FPS => 0.8\n",
      "FPS => 0.8\n",
      "FPS => 0.8\n",
      "FPS => 0.8\n",
      "FPS => 0.8\n",
      "FPS => 0.8\n",
      "FPS => 0.8\n",
      "FPS => 0.8\n",
      "FPS => 0.8\n",
      "FPS => 0.8\n",
      "FPS => 0.8\n",
      "FPS => 0.8\n",
      "FPS => 0.8\n",
      "FPS => 0.8\n",
      "FPS => 0.8\n",
      "FPS => 0.8\n",
      "FPS => 0.8\n",
      "FPS => 0.8\n",
      "FPS => 0.8\n",
      "FPS => 0.8\n",
      "FPS => 0.8\n",
      "FPS => 0.8\n",
      "FPS => 0.8\n",
      "FPS => 0.8\n",
      "FPS => 0.8\n",
      "FPS => 0.8\n",
      "FPS => 0.8\n",
      "FPS => 0.8\n",
      "FPS => 0.8\n",
      "FPS => 0.8\n",
      "FPS => 0.8\n",
      "FPS => 0.8\n",
      "FPS => 0.8\n",
      "FPS => 0.8\n",
      "FPS => 0.8\n",
      "FPS => 0.8\n",
      "FPS => 0.8\n",
      "FPS => 0.8\n",
      "FPS => 0.8\n"
     ]
    }
   ],
   "source": [
    "capture = cv2.VideoCapture(0)\n",
    "capture.set(cv2.CAP_PROP_FRAME_WIDTH, 1920)\n",
    "capture.set(cv2.CAP_PROP_FRAME_HEIGHT, 1080)\n",
    "\n",
    "while True :\n",
    "    stime = time.time()\n",
    "    ret, frame = capture.read()\n",
    "    results = tfnet.return_predict(frame)\n",
    "    if ret :\n",
    "        for color, result in zip(colors, results):\n",
    "            top_left = (result['topleft']['x'], result['topleft']['y'])\n",
    "            bottom_right = (result['bottomright']['x'], result['bottomright']['y'])\n",
    "            label = result['label']\n",
    "            confidence = result['confidence']\n",
    "            text = '{}: {:.0f}%'.format(label, confidence*100)\n",
    "            frame = cv2.rectangle(frame, top_left, bottom_right, color, 5)\n",
    "            frame = cv2.putText(frame, text, top_left, cv2.FONT_HERSHEY_COMPLEX, 1, (0,0,0), 2)\n",
    "        cv2.imshow('frame', frame)\n",
    "        print('FPS => {:.1f}'.format(1 / (time.time() - stime)))    \n",
    "    if cv2.waitKey(1) & 0xff == ord('q') :\n",
    "        break\n",
    "\n",
    "capture.release()\n",
    "cv2.destroyAllWindows()"
   ]
  },
  {
   "cell_type": "code",
   "execution_count": null,
   "metadata": {},
   "outputs": [],
   "source": []
  }
 ],
 "metadata": {
  "kernelspec": {
   "display_name": "Python 3",
   "language": "python",
   "name": "python3"
  },
  "language_info": {
   "codemirror_mode": {
    "name": "ipython",
    "version": 3
   },
   "file_extension": ".py",
   "mimetype": "text/x-python",
   "name": "python",
   "nbconvert_exporter": "python",
   "pygments_lexer": "ipython3",
   "version": "3.11.4"
  }
 },
 "nbformat": 4,
 "nbformat_minor": 2
}
